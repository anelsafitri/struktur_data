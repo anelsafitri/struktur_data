{
 "cells": [
  {
   "cell_type": "markdown",
   "metadata": {},
   "source": [
    "# PENJELASAN CODE"
   ]
  },
  {
   "cell_type": "markdown",
   "metadata": {},
   "source": [
    "- NAMA : ANEL SAFITRI\n",
    "- NIM : 20230801258"
   ]
  },
  {
   "cell_type": "markdown",
   "metadata": {},
   "source": [
    "# Header dan Library Standar"
   ]
  },
  {
   "cell_type": "markdown",
   "metadata": {},
   "source": [
    "- #include <iostream>: Library yang menyediakan fungsi input-output standar seperti cin, cout, dan endl.\n",
    "- #include <stack>: Library untuk menggunakan struktur data stack, yang digunakan di dalam kelas PengolahKata.\n",
    "- #include <string>: Library untuk menggunakan tipe data string."
   ]
  },
  {
   "cell_type": "markdown",
   "metadata": {},
   "source": [
    "# Deklarasi Kelas PengolahKata"
   ]
  },
  {
   "cell_type": "markdown",
   "metadata": {},
   "source": [
    "- PengolahKata adalah kelas utama yang digunakan untuk mengelola teks dan operasi undo/redo.\n",
    "- stack<string> tumpukanUndo;: Stack yang menyimpan riwayat teks sebelumnya untuk operasi undo.\n",
    "- stack<string> tumpukanRedo;: Stack yang menyimpan riwayat teks yang sudah di-undo untuk operasi redo.\n",
    "- string teksSaatIni;: Variabel string untuk menyimpan teks saat ini yang sedang diedit."
   ]
  },
  {
   "cell_type": "markdown",
   "metadata": {},
   "source": [
    "# Fungsi ketik"
   ]
  },
  {
   "cell_type": "markdown",
   "metadata": {},
   "source": [
    "- ketik digunakan untuk menambahkan teks baru ke dalam teksSaatIni.\n",
    "- tumpukanUndo.push(teksSaatIni);: Menyimpan keadaan saat ini (sebelum penambahan teks baru) ke dalam stack tumpukanUndo.\n",
    "- teksSaatIni += teks;: Menambahkan teks baru (teks) ke dalam teksSaatIni.\n",
    "- while (!tumpukanRedo.empty()) { tumpukanRedo.pop(); }: Mengosongkan stack tumpukanRedo karena operasi baru dilakukan, sehingga operasi redo yang sebelumnya tidak relevan."
   ]
  },
  {
   "cell_type": "markdown",
   "metadata": {},
   "source": [
    "# Fungsi undo"
   ]
  },
  {
   "cell_type": "markdown",
   "metadata": {},
   "source": [
    "- undo digunakan untuk membatalkan aksi sebelumnya (undo).\n",
    "- tumpukanRedo.push(teksSaatIni);: Menyimpan keadaan saat ini ke dalam stack tumpukanRedo sehingga nantinya bisa di-redo.\n",
    "- teksSaatIni = tumpukanUndo.top();: Mengembalikan teksSaatIni ke keadaan sebelumnya yang ada di puncak stack tumpukanUndo.\n",
    "- tumpukanUndo.pop();: Menghapus keadaan sebelumnya dari stack tumpukanUndo."
   ]
  },
  {
   "cell_type": "markdown",
   "metadata": {},
   "source": [
    "# Fungsi redo"
   ]
  },
  {
   "cell_type": "markdown",
   "metadata": {},
   "source": [
    "- redo digunakan untuk mengulangi kembali aksi yang sudah di-undo sebelumnya.\n",
    "- tumpukanUndo.push(teksSaatIni);: Menyimpan keadaan saat ini ke dalam stack tumpukanUndo sehingga nantinya bisa di-undo kembali.\n",
    "- teksSaatIni = tumpukanRedo.top();: Mengembalikan teksSaatIni ke keadaan yang sudah di-undo yang ada di puncak stack tumpukanRedo.\n",
    "- tumpukanRedo.pop();: Menghapus keadaan yang sudah di-undo dari stack tumpukanRedo."
   ]
  },
  {
   "cell_type": "markdown",
   "metadata": {},
   "source": [
    "# Fungsi kosongUndo dan kosongRedo"
   ]
  },
  {
   "cell_type": "markdown",
   "metadata": {},
   "source": [
    "- kosongUndo dan kosongRedo adalah metode untuk memeriksa apakah stack tumpukanUndo dan tumpukanRedo kosong atau tidak.\n",
    "- tumpukanUndo.empty() dan tumpukanRedo.empty() mengembalikan true jika stack kosong, dan false jika tidak kosong"
   ]
  },
  {
   "cell_type": "markdown",
   "metadata": {},
   "source": [
    "\n",
    "# Fungsi cetakTeksSaatIni  \n",
    "cetakTeksSaatIni digunakan untuk mencetak teks saat ini yang sedang disunting."
   ]
  },
  {
   "cell_type": "markdown",
   "metadata": {},
   "source": [
    "# Fungsi tampilkanMenu \n",
    "tampilkanMenu adalah fungsi untuk menampilkan menu pilihan operasi yang dapat dilakukan oleh pengguna."
   ]
  },
  {
   "cell_type": "markdown",
   "metadata": {},
   "source": [
    "# Fungsi main\n",
    "- main adalah fungsi utama dari program yang berfungsi sebagai pengendali utama program.\n",
    "- Program akan terus berjalan dalam loop while (true) hingga pengguna memilih opsi \"Keluar\" (pilihan 6).\n",
    "- Setiap opsi diproses menggunakan switch dan memanggil metode-metode yang sesuai dari objek editor yang merupakan instance dari kelas PengolahKata.\n",
    "- Pengguna diminta untuk memasukkan teks (opsi 1), melakukan undo (opsi 2), melakukan redo (opsi 3), memeriksa apakah stack undo kosong (opsi 4), memeriksa apakah stack redo kosong (opsi 5), atau keluar dari program (opsi 6)."
   ]
  }
 ],
 "metadata": {
  "language_info": {
   "name": "python"
  }
 },
 "nbformat": 4,
 "nbformat_minor": 2
}
